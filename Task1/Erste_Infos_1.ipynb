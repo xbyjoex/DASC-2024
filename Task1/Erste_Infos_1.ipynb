{
 "cells": [
  {
   "cell_type": "markdown",
   "metadata": {
    "id": "vfCtgy8ReWeF"
   },
   "source": [
    "# Erste Infos für die Veranstaltung\n",
    "\n",
    "## Termine und Ablauf\n",
    "\n",
    "+ 01.11.: Einstieg, Überblick, erste Schritte --> 🔨 Übungen\n",
    "+ 06.11.: Statistik und Explorative Datenanalyse --> 🔨 Übungen\n",
    "+ 22.11.: Statistische Modelle - Machine Learning (ML) - Teil 1 --> 🔨 Übungen\n",
    "+ 29.11.: ML- Teil 2 --> 🔨 Übungen\n",
    "+ 06.12.: Nikolaus!! Visualisierung, Vorbereitung Abschlussaufgabe --> 🔨 Übungen\n",
    "+ 22.12.: Abgabe der Abschlussarbeit als Py-Notebook\n",
    "\n",
    "⭐\n",
    "\n",
    "## Wichtige Links\n",
    "\n",
    "* GitHub Repository für Vorlesungsmaterialien: https://github.com/geoclaudsch/DASC-2024\n",
    "* Nextcloud für Übungsaufgaben-Abgabe: https://nc.ufz.de/s/ai2zHScBEic8S8r (Passwort: !DASC_ba_2024)\n",
    "* Email bei Fragen: e5000018@ba-sachsen.de\n",
    "* Telefon bei ganz dringenden Fragen: 0341-6025-1803 (Zoom)"
   ]
  },
  {
   "cell_type": "code",
   "execution_count": 143,
   "metadata": {
    "colab": {
     "base_uri": "https://localhost:8080/"
    },
    "id": "3n50yVF6eJYi",
    "outputId": "42f3529a-d397-4d0b-f226-d7bbfee93ecc"
   },
   "outputs": [
    {
     "name": "stdout",
     "output_type": "stream",
     "text": [
      "Hello world!\n"
     ]
    }
   ],
   "source": [
    "print('Hello world!')"
   ]
  },
  {
   "cell_type": "markdown",
   "metadata": {},
   "source": [
    "## Task 1"
   ]
  },
  {
   "cell_type": "code",
   "execution_count": null,
   "metadata": {},
   "outputs": [],
   "source": [
    "import pandas as pd\n",
    "import numbers as np\n",
    "import matplotlib.pyplot as plt\n",
    "import seaborn as sns\n",
    "from sklearn.preprocessing import LabelEncoder\n",
    "import plotly.express as px"
   ]
  },
  {
   "cell_type": "code",
   "execution_count": 145,
   "metadata": {},
   "outputs": [],
   "source": [
    "task1_file_path = \"./VL1_Intro/task/data_science_salaries_2024.csv\""
   ]
  },
  {
   "cell_type": "code",
   "execution_count": 146,
   "metadata": {},
   "outputs": [],
   "source": [
    "t1_data = pd.read_csv(task1_file_path)"
   ]
  },
  {
   "cell_type": "code",
   "execution_count": 147,
   "metadata": {},
   "outputs": [
    {
     "data": {
      "text/html": [
       "<div>\n",
       "<style scoped>\n",
       "    .dataframe tbody tr th:only-of-type {\n",
       "        vertical-align: middle;\n",
       "    }\n",
       "\n",
       "    .dataframe tbody tr th {\n",
       "        vertical-align: top;\n",
       "    }\n",
       "\n",
       "    .dataframe thead th {\n",
       "        text-align: right;\n",
       "    }\n",
       "</style>\n",
       "<table border=\"1\" class=\"dataframe\">\n",
       "  <thead>\n",
       "    <tr style=\"text-align: right;\">\n",
       "      <th></th>\n",
       "      <th>job_title</th>\n",
       "      <th>experience_level</th>\n",
       "      <th>employment_type</th>\n",
       "      <th>work_models</th>\n",
       "      <th>work_year</th>\n",
       "      <th>employee_residence</th>\n",
       "      <th>salary</th>\n",
       "      <th>salary_currency</th>\n",
       "      <th>salary_in_usd</th>\n",
       "      <th>company_location</th>\n",
       "      <th>company_size</th>\n",
       "    </tr>\n",
       "  </thead>\n",
       "  <tbody>\n",
       "    <tr>\n",
       "      <th>0</th>\n",
       "      <td>Data Engineer</td>\n",
       "      <td>Mid-level</td>\n",
       "      <td>Full-time</td>\n",
       "      <td>Remote</td>\n",
       "      <td>2024</td>\n",
       "      <td>United States</td>\n",
       "      <td>148100</td>\n",
       "      <td>USD</td>\n",
       "      <td>148100</td>\n",
       "      <td>United States</td>\n",
       "      <td>Medium</td>\n",
       "    </tr>\n",
       "    <tr>\n",
       "      <th>1</th>\n",
       "      <td>Data Engineer</td>\n",
       "      <td>Mid-level</td>\n",
       "      <td>Full-time</td>\n",
       "      <td>Remote</td>\n",
       "      <td>2024</td>\n",
       "      <td>United States</td>\n",
       "      <td>98700</td>\n",
       "      <td>USD</td>\n",
       "      <td>98700</td>\n",
       "      <td>United States</td>\n",
       "      <td>Medium</td>\n",
       "    </tr>\n",
       "    <tr>\n",
       "      <th>2</th>\n",
       "      <td>Data Scientist</td>\n",
       "      <td>Senior-level</td>\n",
       "      <td>Full-time</td>\n",
       "      <td>Remote</td>\n",
       "      <td>2024</td>\n",
       "      <td>United States</td>\n",
       "      <td>140032</td>\n",
       "      <td>USD</td>\n",
       "      <td>140032</td>\n",
       "      <td>United States</td>\n",
       "      <td>Medium</td>\n",
       "    </tr>\n",
       "    <tr>\n",
       "      <th>3</th>\n",
       "      <td>Data Scientist</td>\n",
       "      <td>Senior-level</td>\n",
       "      <td>Full-time</td>\n",
       "      <td>Remote</td>\n",
       "      <td>2024</td>\n",
       "      <td>United States</td>\n",
       "      <td>100022</td>\n",
       "      <td>USD</td>\n",
       "      <td>100022</td>\n",
       "      <td>United States</td>\n",
       "      <td>Medium</td>\n",
       "    </tr>\n",
       "    <tr>\n",
       "      <th>4</th>\n",
       "      <td>BI Developer</td>\n",
       "      <td>Mid-level</td>\n",
       "      <td>Full-time</td>\n",
       "      <td>On-site</td>\n",
       "      <td>2024</td>\n",
       "      <td>United States</td>\n",
       "      <td>120000</td>\n",
       "      <td>USD</td>\n",
       "      <td>120000</td>\n",
       "      <td>United States</td>\n",
       "      <td>Medium</td>\n",
       "    </tr>\n",
       "  </tbody>\n",
       "</table>\n",
       "</div>"
      ],
      "text/plain": [
       "        job_title experience_level employment_type work_models  work_year  \\\n",
       "0   Data Engineer        Mid-level       Full-time      Remote       2024   \n",
       "1   Data Engineer        Mid-level       Full-time      Remote       2024   \n",
       "2  Data Scientist     Senior-level       Full-time      Remote       2024   \n",
       "3  Data Scientist     Senior-level       Full-time      Remote       2024   \n",
       "4    BI Developer        Mid-level       Full-time     On-site       2024   \n",
       "\n",
       "  employee_residence  salary salary_currency  salary_in_usd company_location  \\\n",
       "0      United States  148100             USD         148100    United States   \n",
       "1      United States   98700             USD          98700    United States   \n",
       "2      United States  140032             USD         140032    United States   \n",
       "3      United States  100022             USD         100022    United States   \n",
       "4      United States  120000             USD         120000    United States   \n",
       "\n",
       "  company_size  \n",
       "0       Medium  \n",
       "1       Medium  \n",
       "2       Medium  \n",
       "3       Medium  \n",
       "4       Medium  "
      ]
     },
     "execution_count": 147,
     "metadata": {},
     "output_type": "execute_result"
    }
   ],
   "source": [
    "t1_data.head()"
   ]
  },
  {
   "cell_type": "code",
   "execution_count": 148,
   "metadata": {},
   "outputs": [
    {
     "data": {
      "text/plain": [
       "array(['United States', 'Romania', 'Portugal', 'Lebanon', 'India',\n",
       "       'Ireland', 'United Kingdom', 'Spain', 'Egypt', 'Germany', 'Canada',\n",
       "       'Australia', 'Vietnam', 'Uganda', 'Italy', 'Thailand',\n",
       "       'Philippines', 'Tunisia', 'Belgium', 'Turkey', 'Nigeria',\n",
       "       'Uzbekistan', 'Argentina', 'France', 'Kuwait', 'Ukraine',\n",
       "       'South Africa', 'Slovenia', 'Singapore', 'Sweden', 'Saudi Arabia',\n",
       "       'Armenia', 'Russia', 'Georgia', 'Qatar', 'Peru', 'Poland',\n",
       "       'New Zealand', 'Norway', 'Netherlands', 'Mexico', 'Latvia',\n",
       "       'Pakistan', 'Lithuania', 'South Korea', 'Kenya', 'Moldova',\n",
       "       'Israel', 'Hungary', 'Croatia', 'Hong Kong', 'Greece', 'Ghana',\n",
       "       'Finland', 'Estonia', 'Cyprus', 'Ecuador', 'Austria', 'Colombia',\n",
       "       'Switzerland', 'Central African Republic', 'Czech Republic',\n",
       "       'Brazil', 'Bosnia and Herzegovina', 'Andorra', 'China',\n",
       "       'Costa Rica', 'Chile', 'Bolivia', 'Malaysia',\n",
       "       'United Arab Emirates', 'Puerto Rico', 'Japan', 'Iran',\n",
       "       'Indonesia', 'Dominican Republic', 'Algeria', 'Bulgaria', 'Malta',\n",
       "       'Luxembourg', 'Iraq', 'Denmark', 'Serbia', 'Jersey',\n",
       "       'American Samoa', 'Mauritius', 'Honduras'], dtype=object)"
      ]
     },
     "execution_count": 148,
     "metadata": {},
     "output_type": "execute_result"
    }
   ],
   "source": [
    "t1_data[\"employee_residence\"].unique()"
   ]
  },
  {
   "cell_type": "code",
   "execution_count": 149,
   "metadata": {},
   "outputs": [
    {
     "name": "stdout",
     "output_type": "stream",
     "text": [
      "<class 'pandas.core.frame.DataFrame'>\n",
      "RangeIndex: 6599 entries, 0 to 6598\n",
      "Data columns (total 11 columns):\n",
      " #   Column              Non-Null Count  Dtype \n",
      "---  ------              --------------  ----- \n",
      " 0   job_title           6599 non-null   object\n",
      " 1   experience_level    6599 non-null   object\n",
      " 2   employment_type     6599 non-null   object\n",
      " 3   work_models         6599 non-null   object\n",
      " 4   work_year           6599 non-null   int64 \n",
      " 5   employee_residence  6599 non-null   object\n",
      " 6   salary              6599 non-null   int64 \n",
      " 7   salary_currency     6599 non-null   object\n",
      " 8   salary_in_usd       6599 non-null   int64 \n",
      " 9   company_location    6599 non-null   object\n",
      " 10  company_size        6599 non-null   object\n",
      "dtypes: int64(3), object(8)\n",
      "memory usage: 567.2+ KB\n"
     ]
    }
   ],
   "source": [
    "t1_data.info()"
   ]
  },
  {
   "cell_type": "markdown",
   "metadata": {},
   "source": [
    "- keine null werte\n",
    "- beachte object für EDA und ML"
   ]
  },
  {
   "cell_type": "code",
   "execution_count": 150,
   "metadata": {},
   "outputs": [
    {
     "name": "stdout",
     "output_type": "stream",
     "text": [
      "Mittelwertt: \t\t 145560.55856948023\n",
      "Median: \t\t 138666.0\n",
      "Standardabweichung: \t 70946.83806953012\n"
     ]
    }
   ],
   "source": [
    "print(\"Mittelwertt: \\t\\t\", t1_data[\"salary_in_usd\"].mean())\n",
    "print(\"Median: \\t\\t\", t1_data[\"salary_in_usd\"].median())\n",
    "print(\"Standardabweichung: \\t\", t1_data[\"salary_in_usd\"].std())"
   ]
  },
  {
   "cell_type": "code",
   "execution_count": 151,
   "metadata": {},
   "outputs": [],
   "source": [
    "features = t1_data.columns\n",
    "object_features = []\n",
    "int_features = []\n",
    "for feature in features:\n",
    "    if t1_data[feature].dtype == \"object\":\n",
    "        object_features.append(feature)\n",
    "    else:\n",
    "        int_features.append(feature)"
   ]
  },
  {
   "cell_type": "markdown",
   "metadata": {},
   "source": [
    "Anzahl einzigartiger Elemente der jeweiligen features bei object features"
   ]
  },
  {
   "cell_type": "code",
   "execution_count": 152,
   "metadata": {},
   "outputs": [
    {
     "name": "stdout",
     "output_type": "stream",
     "text": [
      "job_title :  132\n",
      "experience_level :  4\n",
      "employment_type :  4\n",
      "work_models :  3\n",
      "employee_residence :  87\n",
      "salary_currency :  22\n",
      "company_location :  75\n",
      "company_size :  3\n"
     ]
    },
    {
     "data": {
      "text/plain": [
       "[None, None, None, None, None, None, None, None]"
      ]
     },
     "execution_count": 152,
     "metadata": {},
     "output_type": "execute_result"
    }
   ],
   "source": [
    "object_df = t1_data[object_features]\n",
    "[print(feature, \": \", len(object_df[feature].unique())) for feature in object_df]"
   ]
  },
  {
   "cell_type": "code",
   "execution_count": 153,
   "metadata": {},
   "outputs": [
    {
     "data": {
      "image/png": "[encoded data removed]",
      "text/plain": [
       "<Figure size 640x480 with 1 Axes>"
      ]
     },
     "metadata": {},
     "output_type": "display_data"
    }
   ],
   "source": [
    "summary = t1_data.groupby(\"experience_level\")[\"salary_in_usd\"].agg(\n",
    "    Median=\"median\",\n",
    "    Mittelwert=\"mean\",\n",
    "    Standardabweichung=\"std\"\n",
    ").reset_index()\n",
    "experience_order = [\"Entry-level\", \"Mid-level\", \"Senior-level\", \"Executive-level\"]\n",
    "summary['experience_level'] = pd.Categorical(summary['experience_level'], categories=experience_order, ordered=True)\n",
    "summary = summary.sort_values('experience_level')\n",
    "summary_long = summary.melt(id_vars='experience_level', \n",
    "                            value_vars=['Median', 'Mittelwert', 'Standardabweichung'],\n",
    "                            var_name='Metric', value_name='salary_in_usd')\n",
    "plt.title(\"Median, Mittelwert und Standardabweichung des Gehalts in USD nach Experience-Level\")\n",
    "plot = sns.barplot(summary_long, x=\"experience_level\", y=\"salary_in_usd\", hue=\"Metric\", palette=\"YlGnBu\")\n",
    "for p in plot.patches:\n",
    "    value_k = f\"{int(p.get_height() / 1000)}K\"  # Wert in Tausendern mit \"K\" suffix\n",
    "    plot.annotate(value_k, \n",
    "                  (p.get_x() + p.get_width() / 2., p.get_height()), \n",
    "                  ha = 'center', va = 'center', \n",
    "                  xytext = (0, 9), \n",
    "                  textcoords = 'offset points')\n",
    "plt.xlabel(\"Experience-Level\")\n",
    "plt.ylabel(\"Gehalt in USD\")\n",
    "plt.subplots_adjust(top=1.1) \n",
    "plt.savefig(\"Barplot Gehalt nach Experience-Level\")\n",
    "plt.show()"
   ]
  },
  {
   "cell_type": "code",
   "execution_count": 154,
   "metadata": {},
   "outputs": [
    {
     "data": {
      "image/png": "[encoded data removed]",
      "text/plain": [
       "<Figure size 640x480 with 1 Axes>"
      ]
     },
     "metadata": {},
     "output_type": "display_data"
    }
   ],
   "source": [
    "order = t1_data.groupby('experience_level')['salary_in_usd'].median().sort_values().index\n",
    "plt.title(\"Boxplot nach Experience-Level\")\n",
    "sns.boxplot(x=\"experience_level\", y=\"salary_in_usd\", data=t1_data, order=order, palette=\"YlGnBu\")\n",
    "plt.xlabel(\"Experience-Level\")\n",
    "plt.ylabel(\"Gehalt in USD\")\n",
    "plt.savefig(\"Boxplot Experience-Level\")\n",
    "plt.show()"
   ]
  },
  {
   "cell_type": "code",
   "execution_count": 155,
   "metadata": {},
   "outputs": [
    {
     "data": {
      "image/png": "[encoded data removed]",
      "text/plain": [
       "<Figure size 640x480 with 1 Axes>"
      ]
     },
     "metadata": {},
     "output_type": "display_data"
    }
   ],
   "source": [
    "plt.title(\"Verteilung der Gehälter\")\n",
    "sns.histplot(t1_data[\"salary_in_usd\"], bins=35)\n",
    "plt.xlabel(\"Gehalt in USD\")\n",
    "plt.ylabel(\"Anzahl\")\n",
    "plt.gca().xaxis.set_major_formatter(plt.FuncFormatter(lambda x, _: f'{int(x/1000)}K'))\n",
    "plt.savefig(\"Histplot Gehaltsverteilung\")\n",
    "plt.show()"
   ]
  },
  {
   "cell_type": "code",
   "execution_count": 156,
   "metadata": {},
   "outputs": [
    {
     "data": {
      "image/png": "[encoded data removed]",
      "text/plain": [
       "<Figure size 640x480 with 1 Axes>"
      ]
     },
     "metadata": {},
     "output_type": "display_data"
    }
   ],
   "source": [
    "plt.title(\"Boxplot nach Jahr\")\n",
    "sns.boxplot(x=\"work_year\", y=\"salary_in_usd\", data=t1_data, palette=\"YlGnBu\")\n",
    "plt.xlabel(\"Jahr\")\n",
    "plt.ylabel(\"Gehalt in USD\")\n",
    "plt.savefig(\"Boxplot Work Year\")\n",
    "plt.show()"
   ]
  },
  {
   "cell_type": "markdown",
   "metadata": {},
   "source": [
    "Median Gehalt in USD nach Land"
   ]
  },
  {
   "cell_type": "code",
   "execution_count": 170,
   "metadata": {},
   "outputs": [
    {
     "data": {
      "application/vnd.plotly.v1+json": {
       "config": {
        "plotlyServerURL": "https://plot.ly"
       },
       "data": [
        {
         "coloraxis": "coloraxis",
         "geo": "geo",
         "hovertemplate": "<b>%{hovertext}</b><br><br>employee_residence=%{location}<br>salary_in_usd=%{z}<extra></extra>",
         "hovertext": [
          "Algeria",
          "American Samoa",
          "Andorra",
          "Argentina",
          "Armenia",
          "Australia",
          "Austria",
          "Belgium",
          "Bolivia",
          "Bosnia and Herzegovina",
          "Brazil",
          "Bulgaria",
          "Canada",
          "Central African Republic",
          "Chile",
          "China",
          "Colombia",
          "Costa Rica",
          "Croatia",
          "Cyprus",
          "Czech Republic",
          "Denmark",
          "Dominican Republic",
          "Ecuador",
          "Egypt",
          "Estonia",
          "Finland",
          "France",
          "Georgia",
          "Germany",
          "Ghana",
          "Greece",
          "Honduras",
          "Hong Kong",
          "Hungary",
          "India",
          "Indonesia",
          "Iran",
          "Iraq",
          "Ireland",
          "Israel",
          "Italy",
          "Japan",
          "Jersey",
          "Kenya",
          "Kuwait",
          "Latvia",
          "Lebanon",
          "Lithuania",
          "Luxembourg",
          "Malaysia",
          "Malta",
          "Mauritius",
          "Mexico",
          "Moldova",
          "Netherlands",
          "New Zealand",
          "Nigeria",
          "Norway",
          "Pakistan",
          "Peru",
          "Philippines",
          "Poland",
          "Portugal",
          "Puerto Rico",
          "Qatar",
          "Romania",
          "Russia",
          "Saudi Arabia",
          "Serbia",
          "Singapore",
          "Slovenia",
          "South Africa",
          "South Korea",
          "Spain",
          "Sweden",
          "Switzerland",
          "Thailand",
          "Tunisia",
          "Turkey",
          "Uganda",
          "Ukraine",
          "United Arab Emirates",
          "United Kingdom",
          "United States",
          "Uzbekistan",
          "Vietnam"
         ],
         "locationmode": "country names",
         "locations": [
          "Algeria",
          "American Samoa",
          "Andorra",
          "Argentina",
          "Armenia",
          "Australia",
          "Austria",
          "Belgium",
          "Bolivia",
          "Bosnia and Herzegovina",
          "Brazil",
          "Bulgaria",
          "Canada",
          "Central African Republic",
          "Chile",
          "China",
          "Colombia",
          "Costa Rica",
          "Croatia",
          "Cyprus",
          "Czech Republic",
          "Denmark",
          "Dominican Republic",
          "Ecuador",
          "Egypt",
          "Estonia",
          "Finland",
          "France",
          "Georgia",
          "Germany",
          "Ghana",
          "Greece",
          "Honduras",
          "Hong Kong",
          "Hungary",
          "India",
          "Indonesia",
          "Iran",
          "Iraq",
          "Ireland",
          "Israel",
          "Italy",
          "Japan",
          "Jersey",
          "Kenya",
          "Kuwait",
          "Latvia",
          "Lebanon",
          "Lithuania",
          "Luxembourg",
          "Malaysia",
          "Malta",
          "Mauritius",
          "Mexico",
          "Moldova",
          "Netherlands",
          "New Zealand",
          "Nigeria",
          "Norway",
          "Pakistan",
          "Peru",
          "Philippines",
          "Poland",
          "Portugal",
          "Puerto Rico",
          "Qatar",
          "Romania",
          "Russia",
          "Saudi Arabia",
          "Serbia",
          "Singapore",
          "Slovenia",
          "South Africa",
          "South Korea",
          "Spain",
          "Sweden",
          "Switzerland",
          "Thailand",
          "Tunisia",
          "Turkey",
          "Uganda",
          "Ukraine",
          "United Arab Emirates",
          "United Kingdom",
          "United States",
          "Uzbekistan",
          "Vietnam"
         ],
         "name": "",
         "type": "choropleth",
         "z": [
          100000,
          45555,
          50745,
          60000,
          33500,
          83864,
          68059.5,
          83398.5,
          75000,
          120000,
          60000,
          80000,
          133700,
          49216,
          72519,
          125404,
          71000,
          20000,
          59721,
          63701,
          59999.5,
          28609,
          110000,
          16000,
          81650,
          41459.5,
          68961.5,
          64781,
          57000,
          84053,
          33000,
          47899,
          20000,
          65540,
          35997,
          33321,
          15000,
          100000,
          100000,
          98585.5,
          417937,
          52524,
          68855.5,
          100000,
          65000,
          50000,
          59080,
          71750,
          94812,
          59102,
          200000,
          28369,
          100000,
          72000,
          66500,
          73546,
          125000,
          45000,
          88462,
          40000,
          27000,
          50000,
          46565,
          52082,
          160000,
          300000,
          38868,
          54000,
          134999,
          25532,
          74883,
          47505.5,
          40581,
          47000,
          53444,
          105000,
          104697,
          26957,
          90234.5,
          25000,
          36000,
          60000,
          115000,
          91118,
          149000,
          100000,
          50000
         ]
        }
       ],
       "layout": {
        "coloraxis": {
         "colorbar": {
          "title": {
           "text": "salary_in_usd"
          }
         },
         "colorscale": [
          [
           0,
           "#0d0887"
          ],
          [
           0.1111111111111111,
           "#46039f"
          ],
          [
           0.2222222222222222,
           "#7201a8"
          ],
          [
           0.3333333333333333,
           "#9c179e"
          ],
          [
           0.4444444444444444,
           "#bd3786"
          ],
          [
           0.5555555555555556,
           "#d8576b"
          ],
          [
           0.6666666666666666,
           "#ed7953"
          ],
          [
           0.7777777777777778,
           "#fb9f3a"
          ],
          [
           0.8888888888888888,
           "#fdca26"
          ],
          [
           1,
           "#f0f921"
          ]
         ]
        },
        "geo": {
         "center": {},
         "domain": {
          "x": [
           0,
           1
          ],
          "y": [
           0,
           1
          ]
         }
        },
        "height": 900,
        "legend": {
         "tracegroupgap": 0
        },
        "template": {
         "data": {
          "bar": [
           {
            "error_x": {
             "color": "#2a3f5f"
            },
            "error_y": {
             "color": "#2a3f5f"
            },
            "marker": {
             "line": {
              "color": "#E5ECF6",
              "width": 0.5
             },
             "pattern": {
              "fillmode": "overlay",
              "size": 10,
              "solidity": 0.2
             }
            },
            "type": "bar"
           }
          ],
          "barpolar": [
           {
            "marker": {
             "line": {
              "color": "#E5ECF6",
              "width": 0.5
             },
             "pattern": {
              "fillmode": "overlay",
              "size": 10,
              "solidity": 0.2
             }
            },
            "type": "barpolar"
           }
          ],
          "carpet": [
           {
            "aaxis": {
             "endlinecolor": "#2a3f5f",
             "gridcolor": "white",
             "linecolor": "white",
             "minorgridcolor": "white",
             "startlinecolor": "#2a3f5f"
            },
            "baxis": {
             "endlinecolor": "#2a3f5f",
             "gridcolor": "white",
             "linecolor": "white",
             "minorgridcolor": "white",
             "startlinecolor": "#2a3f5f"
            },
            "type": "carpet"
           }
          ],
          "choropleth": [
           {
            "colorbar": {
             "outlinewidth": 0,
             "ticks": ""
            },
            "type": "choropleth"
           }
          ],
          "contour": [
           {
            "colorbar": {
             "outlinewidth": 0,
             "ticks": ""
            },
            "colorscale": [
             [
              0,
              "#0d0887"
             ],
             [
              0.1111111111111111,
              "#46039f"
             ],
             [
              0.2222222222222222,
              "#7201a8"
             ],
             [
              0.3333333333333333,
              "#9c179e"
             ],
             [
              0.4444444444444444,
              "#bd3786"
             ],
             [
              0.5555555555555556,
              "#d8576b"
             ],
             [
              0.6666666666666666,
              "#ed7953"
             ],
             [
              0.7777777777777778,
              "#fb9f3a"
             ],
             [
              0.8888888888888888,
              "#fdca26"
             ],
             [
              1,
              "#f0f921"
             ]
            ],
            "type": "contour"
           }
          ],
          "contourcarpet": [
           {
            "colorbar": {
             "outlinewidth": 0,
             "ticks": ""
            },
            "type": "contourcarpet"
           }
          ],
          "heatmap": [
           {
            "colorbar": {
             "outlinewidth": 0,
             "ticks": ""
            },
            "colorscale": [
             [
              0,
              "#0d0887"
             ],
             [
              0.1111111111111111,
              "#46039f"
             ],
             [
              0.2222222222222222,
              "#7201a8"
             ],
             [
              0.3333333333333333,
              "#9c179e"
             ],
             [
              0.4444444444444444,
              "#bd3786"
             ],
             [
              0.5555555555555556,
              "#d8576b"
             ],
             [
              0.6666666666666666,
              "#ed7953"
             ],
             [
              0.7777777777777778,
              "#fb9f3a"
             ],
             [
              0.8888888888888888,
              "#fdca26"
             ],
             [
              1,
              "#f0f921"
             ]
            ],
            "type": "heatmap"
           }
          ],
          "heatmapgl": [
           {
            "colorbar": {
             "outlinewidth": 0,
             "ticks": ""
            },
            "colorscale": [
             [
              0,
              "#0d0887"
             ],
             [
              0.1111111111111111,
              "#46039f"
             ],
             [
              0.2222222222222222,
              "#7201a8"
             ],
             [
              0.3333333333333333,
              "#9c179e"
             ],
             [
              0.4444444444444444,
              "#bd3786"
             ],
             [
              0.5555555555555556,
              "#d8576b"
             ],
             [
              0.6666666666666666,
              "#ed7953"
             ],
             [
              0.7777777777777778,
              "#fb9f3a"
             ],
             [
              0.8888888888888888,
              "#fdca26"
             ],
             [
              1,
              "#f0f921"
             ]
            ],
            "type": "heatmapgl"
           }
          ],
          "histogram": [
           {
            "marker": {
             "pattern": {
              "fillmode": "overlay",
              "size": 10,
              "solidity": 0.2
             }
            },
            "type": "histogram"
           }
          ],
          "histogram2d": [
           {
            "colorbar": {
             "outlinewidth": 0,
             "ticks": ""
            },
            "colorscale": [
             [
              0,
              "#0d0887"
             ],
             [
              0.1111111111111111,
              "#46039f"
             ],
             [
              0.2222222222222222,
              "#7201a8"
             ],
             [
              0.3333333333333333,
              "#9c179e"
             ],
             [
              0.4444444444444444,
              "#bd3786"
             ],
             [
              0.5555555555555556,
              "#d8576b"
             ],
             [
              0.6666666666666666,
              "#ed7953"
             ],
             [
              0.7777777777777778,
              "#fb9f3a"
             ],
             [
              0.8888888888888888,
              "#fdca26"
             ],
             [
              1,
              "#f0f921"
             ]
            ],
            "type": "histogram2d"
           }
          ],
          "histogram2dcontour": [
           {
            "colorbar": {
             "outlinewidth": 0,
             "ticks": ""
            },
            "colorscale": [
             [
              0,
              "#0d0887"
             ],
             [
              0.1111111111111111,
              "#46039f"
             ],
             [
              0.2222222222222222,
              "#7201a8"
             ],
             [
              0.3333333333333333,
              "#9c179e"
             ],
             [
              0.4444444444444444,
              "#bd3786"
             ],
             [
              0.5555555555555556,
              "#d8576b"
             ],
             [
              0.6666666666666666,
              "#ed7953"
             ],
             [
              0.7777777777777778,
              "#fb9f3a"
             ],
             [
              0.8888888888888888,
              "#fdca26"
             ],
             [
              1,
              "#f0f921"
             ]
            ],
            "type": "histogram2dcontour"
           }
          ],
          "mesh3d": [
           {
            "colorbar": {
             "outlinewidth": 0,
             "ticks": ""
            },
            "type": "mesh3d"
           }
          ],
          "parcoords": [
           {
            "line": {
             "colorbar": {
              "outlinewidth": 0,
              "ticks": ""
             }
            },
            "type": "parcoords"
           }
          ],
          "pie": [
           {
            "automargin": true,
            "type": "pie"
           }
          ],
          "scatter": [
           {
            "fillpattern": {
             "fillmode": "overlay",
             "size": 10,
             "solidity": 0.2
            },
            "type": "scatter"
           }
          ],
          "scatter3d": [
           {
            "line": {
             "colorbar": {
              "outlinewidth": 0,
              "ticks": ""
             }
            },
            "marker": {
             "colorbar": {
              "outlinewidth": 0,
              "ticks": ""
             }
            },
            "type": "scatter3d"
           }
          ],
          "scattercarpet": [
           {
            "marker": {
             "colorbar": {
              "outlinewidth": 0,
              "ticks": ""
             }
            },
            "type": "scattercarpet"
           }
          ],
          "scattergeo": [
           {
            "marker": {
             "colorbar": {
              "outlinewidth": 0,
              "ticks": ""
             }
            },
            "type": "scattergeo"
           }
          ],
          "scattergl": [
           {
            "marker": {
             "colorbar": {
              "outlinewidth": 0,
              "ticks": ""
             }
            },
            "type": "scattergl"
           }
          ],
          "scattermapbox": [
           {
            "marker": {
             "colorbar": {
              "outlinewidth": 0,
              "ticks": ""
             }
            },
            "type": "scattermapbox"
           }
          ],
          "scatterpolar": [
           {
            "marker": {
             "colorbar": {
              "outlinewidth": 0,
              "ticks": ""
             }
            },
            "type": "scatterpolar"
           }
          ],
          "scatterpolargl": [
           {
            "marker": {
             "colorbar": {
              "outlinewidth": 0,
              "ticks": ""
             }
            },
            "type": "scatterpolargl"
           }
          ],
          "scatterternary": [
           {
            "marker": {
             "colorbar": {
              "outlinewidth": 0,
              "ticks": ""
             }
            },
            "type": "scatterternary"
           }
          ],
          "surface": [
           {
            "colorbar": {
             "outlinewidth": 0,
             "ticks": ""
            },
            "colorscale": [
             [
              0,
              "#0d0887"
             ],
             [
              0.1111111111111111,
              "#46039f"
             ],
             [
              0.2222222222222222,
              "#7201a8"
             ],
             [
              0.3333333333333333,
              "#9c179e"
             ],
             [
              0.4444444444444444,
              "#bd3786"
             ],
             [
              0.5555555555555556,
              "#d8576b"
             ],
             [
              0.6666666666666666,
              "#ed7953"
             ],
             [
              0.7777777777777778,
              "#fb9f3a"
             ],
             [
              0.8888888888888888,
              "#fdca26"
             ],
             [
              1,
              "#f0f921"
             ]
            ],
            "type": "surface"
           }
          ],
          "table": [
           {
            "cells": {
             "fill": {
              "color": "#EBF0F8"
             },
             "line": {
              "color": "white"
             }
            },
            "header": {
             "fill": {
              "color": "#C8D4E3"
             },
             "line": {
              "color": "white"
             }
            },
            "type": "table"
           }
          ]
         },
         "layout": {
          "annotationdefaults": {
           "arrowcolor": "#2a3f5f",
           "arrowhead": 0,
           "arrowwidth": 1
          },
          "autotypenumbers": "strict",
          "coloraxis": {
           "colorbar": {
            "outlinewidth": 0,
            "ticks": ""
           }
          },
          "colorscale": {
           "diverging": [
            [
             0,
             "#8e0152"
            ],
            [
             0.1,
             "#c51b7d"
            ],
            [
             0.2,
             "#de77ae"
            ],
            [
             0.3,
             "#f1b6da"
            ],
            [
             0.4,
             "#fde0ef"
            ],
            [
             0.5,
             "#f7f7f7"
            ],
            [
             0.6,
             "#e6f5d0"
            ],
            [
             0.7,
             "#b8e186"
            ],
            [
             0.8,
             "#7fbc41"
            ],
            [
             0.9,
             "#4d9221"
            ],
            [
             1,
             "#276419"
            ]
           ],
           "sequential": [
            [
             0,
             "#0d0887"
            ],
            [
             0.1111111111111111,
             "#46039f"
            ],
            [
             0.2222222222222222,
             "#7201a8"
            ],
            [
             0.3333333333333333,
             "#9c179e"
            ],
            [
             0.4444444444444444,
             "#bd3786"
            ],
            [
             0.5555555555555556,
             "#d8576b"
            ],
            [
             0.6666666666666666,
             "#ed7953"
            ],
            [
             0.7777777777777778,
             "#fb9f3a"
            ],
            [
             0.8888888888888888,
             "#fdca26"
            ],
            [
             1,
             "#f0f921"
            ]
           ],
           "sequentialminus": [
            [
             0,
             "#0d0887"
            ],
            [
             0.1111111111111111,
             "#46039f"
            ],
            [
             0.2222222222222222,
             "#7201a8"
            ],
            [
             0.3333333333333333,
             "#9c179e"
            ],
            [
             0.4444444444444444,
             "#bd3786"
            ],
            [
             0.5555555555555556,
             "#d8576b"
            ],
            [
             0.6666666666666666,
             "#ed7953"
            ],
            [
             0.7777777777777778,
             "#fb9f3a"
            ],
            [
             0.8888888888888888,
             "#fdca26"
            ],
            [
             1,
             "#f0f921"
            ]
           ]
          },
          "colorway": [
           "#636efa",
           "#EF553B",
           "#00cc96",
           "#ab63fa",
           "#FFA15A",
           "#19d3f3",
           "#FF6692",
           "#B6E880",
           "#FF97FF",
           "#FECB52"
          ],
          "font": {
           "color": "#2a3f5f"
          },
          "geo": {
           "bgcolor": "white",
           "lakecolor": "white",
           "landcolor": "#E5ECF6",
           "showlakes": true,
           "showland": true,
           "subunitcolor": "white"
          },
          "hoverlabel": {
           "align": "left"
          },
          "hovermode": "closest",
          "mapbox": {
           "style": "light"
          },
          "paper_bgcolor": "white",
          "plot_bgcolor": "#E5ECF6",
          "polar": {
           "angularaxis": {
            "gridcolor": "white",
            "linecolor": "white",
            "ticks": ""
           },
           "bgcolor": "#E5ECF6",
           "radialaxis": {
            "gridcolor": "white",
            "linecolor": "white",
            "ticks": ""
           }
          },
          "scene": {
           "xaxis": {
            "backgroundcolor": "#E5ECF6",
            "gridcolor": "white",
            "gridwidth": 2,
            "linecolor": "white",
            "showbackground": true,
            "ticks": "",
            "zerolinecolor": "white"
           },
           "yaxis": {
            "backgroundcolor": "#E5ECF6",
            "gridcolor": "white",
            "gridwidth": 2,
            "linecolor": "white",
            "showbackground": true,
            "ticks": "",
            "zerolinecolor": "white"
           },
           "zaxis": {
            "backgroundcolor": "#E5ECF6",
            "gridcolor": "white",
            "gridwidth": 2,
            "linecolor": "white",
            "showbackground": true,
            "ticks": "",
            "zerolinecolor": "white"
           }
          },
          "shapedefaults": {
           "line": {
            "color": "#2a3f5f"
           }
          },
          "ternary": {
           "aaxis": {
            "gridcolor": "white",
            "linecolor": "white",
            "ticks": ""
           },
           "baxis": {
            "gridcolor": "white",
            "linecolor": "white",
            "ticks": ""
           },
           "bgcolor": "#E5ECF6",
           "caxis": {
            "gridcolor": "white",
            "linecolor": "white",
            "ticks": ""
           }
          },
          "title": {
           "x": 0.05
          },
          "xaxis": {
           "automargin": true,
           "gridcolor": "white",
           "linecolor": "white",
           "ticks": "",
           "title": {
            "standoff": 15
           },
           "zerolinecolor": "white",
           "zerolinewidth": 2
          },
          "yaxis": {
           "automargin": true,
           "gridcolor": "white",
           "linecolor": "white",
           "ticks": "",
           "title": {
            "standoff": 15
           },
           "zerolinecolor": "white",
           "zerolinewidth": 2
          }
         }
        },
        "title": {
         "text": "Median Gehalt nach Land"
        },
        "width": 1600
       }
      }
     },
     "metadata": {},
     "output_type": "display_data"
    }
   ],
   "source": [
    "median_salary_by_country = t1_data.groupby('employee_residence')['salary_in_usd'].median().reset_index()\n",
    "\n",
    "# Create the choropleth map\n",
    "fig = px.choropleth(\n",
    "    median_salary_by_country,\n",
    "    locations=\"employee_residence\",\n",
    "    locationmode=\"country names\",\n",
    "    color=\"salary_in_usd\",\n",
    "    hover_name=\"employee_residence\",\n",
    "    color_continuous_scale=px.colors.sequential.Plasma,\n",
    "    title=\"Median Gehalt nach Land\"\n",
    ")\n",
    "\n",
    "\n",
    "# Update layout to increase the size of the output\n",
    "fig.update_layout(\n",
    "    width=1600,\n",
    "    height=900\n",
    ")\n",
    "\n",
    "# Show the figure\n",
    "fig.show()"
   ]
  },
  {
   "cell_type": "code",
   "execution_count": null,
   "metadata": {},
   "outputs": [],
   "source": []
  }
 ],
 "metadata": {
  "colab": {
   "provenance": []
  },
  "kernelspec": {
   "display_name": "Python 3",
   "language": "python",
   "name": "python3"
  },
  "language_info": {
   "codemirror_mode": {
    "name": "ipython",
    "version": 3
   },
   "file_extension": ".py",
   "mimetype": "text/x-python",
   "name": "python",
   "nbconvert_exporter": "python",
   "pygments_lexer": "ipython3",
   "version": "3.10.11"
  }
 },
 "nbformat": 4,
 "nbformat_minor": 4
}
